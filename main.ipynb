{
 "cells": [
  {
   "cell_type": "markdown",
   "metadata": {},
   "source": [
    "## DB Computers (Ex's 1-13)"
   ]
  },
  {
   "cell_type": "markdown",
   "metadata": {},
   "source": [
    "### Description of Computer firm DB"
   ]
  },
  {
   "cell_type": "markdown",
   "metadata": {},
   "source": [
    "The database scheme consists of four tables:\n",
    "- `Product` (maker, model, type)\n",
    "- `PC` (code, model, speed, ram, hd, cd, price)\n",
    "- `Laptop` (code, model, speed, ram, hd, screen, price)\n",
    "- `Printer` (code, model, color, type, price)\n",
    "\n",
    "The `Product` table contains data on the maker, model number, and type of product ('PC', 'Laptop', or 'Printer'). It is assumed that model numbers in the Product table are unique for all makers and product types.\n",
    " \n",
    "Each personal computer in the `PC table` is unambiguously identified by a unique code, and is additionally characterized by its model (foreign key referring to the Product table), processor speed (in MHz) – speed field, RAM capacity (in Mb) - ram, hard disk drive capacity (in Gb) – hd, CD-ROM speed (e.g, '4x') - cd, and its price.\n",
    "\n",
    "The `Laptop` table is similar to the PC table, except that instead of the CD-ROM speed, it contains the screen size (in inches) – screen. \n",
    "\n",
    "For each printer model in the `Printer table`, its output type (‘y’ for color and ‘n’ for monochrome) – color field, printing technology ('Laser', 'Jet', or 'Matrix') – type, and price are specified."
   ]
  },
  {
   "cell_type": "markdown",
   "metadata": {},
   "source": [
    "![Сomputers](computers.gif)"
   ]
  },
  {
   "cell_type": "markdown",
   "metadata": {},
   "source": [
    "### 1. Find the model number, speed and hard drive capacity for all the PCs with prices below $500.\n",
    "Result set: model, speed, hd."
   ]
  },
  {
   "cell_type": "code",
   "execution_count": null,
   "metadata": {
    "vscode": {
     "languageId": "sql"
    }
   },
   "outputs": [],
   "source": [
    "SELECT model, speed, hd\n",
    "FROM PC\n",
    "WHERE price < 500"
   ]
  },
  {
   "cell_type": "markdown",
   "metadata": {},
   "source": [
    "### 2. List all printer makers. Result set: maker."
   ]
  },
  {
   "cell_type": "code",
   "execution_count": null,
   "metadata": {
    "vscode": {
     "languageId": "sql"
    }
   },
   "outputs": [],
   "source": [
    "SELECT DISTINCT maker as Maker\n",
    "FROM Product\n",
    "WHERE type = 'Printer'"
   ]
  },
  {
   "cell_type": "markdown",
   "metadata": {},
   "source": [
    "### 3. Find the model number, RAM and screen size of the laptops with prices over $1000"
   ]
  },
  {
   "cell_type": "code",
   "execution_count": null,
   "metadata": {
    "vscode": {
     "languageId": "sql"
    }
   },
   "outputs": [],
   "source": [
    "SELECT model, ram, screen\n",
    "FROM laptop\n",
    "WHERE price > 1000"
   ]
  },
  {
   "cell_type": "markdown",
   "metadata": {},
   "source": [
    "### 4. Find all records from the Printer table containing data about color printers."
   ]
  },
  {
   "cell_type": "code",
   "execution_count": null,
   "metadata": {
    "vscode": {
     "languageId": "sql"
    }
   },
   "outputs": [],
   "source": [
    "SELECT *\n",
    "FROM Printer\n",
    "WHERE color = 'y';"
   ]
  },
  {
   "cell_type": "markdown",
   "metadata": {},
   "source": [
    "### 5. Find the model number, speed and hard drive capacity of PCs cheaper than $600 having a 12x or a 24x CD drive."
   ]
  },
  {
   "cell_type": "code",
   "execution_count": null,
   "metadata": {
    "vscode": {
     "languageId": "sql"
    }
   },
   "outputs": [],
   "source": [
    "SELECT model, speed, hd\n",
    "FROM pc\n",
    "WHERE price < 600 AND (cd = '12x' OR cd = '24x');"
   ]
  },
  {
   "cell_type": "markdown",
   "metadata": {},
   "source": [
    "### 6. For each maker producing laptops with a hard drive capacity of 10 Gb or higher, find the speed of such laptops. Result set: maker, speed."
   ]
  },
  {
   "cell_type": "code",
   "execution_count": null,
   "metadata": {
    "vscode": {
     "languageId": "sql"
    }
   },
   "outputs": [],
   "source": [
    "SELECT DISTINCT p1.maker,l1.speed\n",
    "FROM product AS p1\n",
    "JOIN laptop AS l1\n",
    "ON p1.model = l1.model\n",
    "WHERE l1.hd >= 10;"
   ]
  },
  {
   "cell_type": "markdown",
   "metadata": {},
   "source": [
    "### 7. Get the models and prices for all commercially available products (of any type) produced by maker B."
   ]
  },
  {
   "cell_type": "code",
   "execution_count": null,
   "metadata": {
    "vscode": {
     "languageId": "sql"
    }
   },
   "outputs": [],
   "source": [
    "SELECT all_products.model, all_products.price\n",
    "FROM (SELECT model, price FROM pc\n",
    "      UNION\n",
    "      SELECT model, price FROM laptop\n",
    "      UNION\n",
    "      SELECT model, price FROM printer) AS all_products\n",
    "JOIN product\n",
    "ON all_products.model = product.model\n",
    "WHERE product.maker = 'B';"
   ]
  },
  {
   "cell_type": "markdown",
   "metadata": {},
   "source": [
    "### 8. Find the makers producing PCs but not laptops."
   ]
  },
  {
   "cell_type": "code",
   "execution_count": null,
   "metadata": {
    "vscode": {
     "languageId": "sql"
    }
   },
   "outputs": [],
   "source": [
    "SELECT DISTINCT maker\n",
    "FROM product\n",
    "WHERE type IN ('pc', 'laptop')\n",
    "EXCEPT\n",
    "SELECT maker\n",
    "FROM product\n",
    "WHERE type = 'laptop';"
   ]
  },
  {
   "cell_type": "markdown",
   "metadata": {},
   "source": [
    "### 9. Find the makers of PCs with a processor speed of 450 MHz or more. Result set: maker."
   ]
  },
  {
   "cell_type": "code",
   "execution_count": null,
   "metadata": {
    "vscode": {
     "languageId": "sql"
    }
   },
   "outputs": [],
   "source": [
    "SELECT DISTINCT p1.maker\n",
    "FROM product AS p1\n",
    "JOIN pc AS pc1\n",
    "ON p1.model = pc1.model\n",
    "WHERE pc1.speed >= 450;"
   ]
  },
  {
   "cell_type": "markdown",
   "metadata": {},
   "source": [
    "### 10. Find the printer models having the highest price. Result set: model, price."
   ]
  },
  {
   "cell_type": "code",
   "execution_count": null,
   "metadata": {
    "vscode": {
     "languageId": "sql"
    }
   },
   "outputs": [],
   "source": [
    "SELECT DISTINCT model, price\n",
    "FROM printer\n",
    "WHERE price = (SELECT MAX(price) FROM printer);"
   ]
  },
  {
   "cell_type": "markdown",
   "metadata": {},
   "source": [
    "### 11. Find out the average speed of PCs."
   ]
  },
  {
   "cell_type": "code",
   "execution_count": null,
   "metadata": {
    "vscode": {
     "languageId": "sql"
    }
   },
   "outputs": [],
   "source": [
    "SELECT AVG(speed)\n",
    "FROM PC"
   ]
  },
  {
   "cell_type": "markdown",
   "metadata": {},
   "source": [
    "### 12. Find out the average speed of the laptops priced over $1000."
   ]
  },
  {
   "cell_type": "code",
   "execution_count": null,
   "metadata": {
    "vscode": {
     "languageId": "sql"
    }
   },
   "outputs": [],
   "source": [
    "SELECT AVG(speed)\n",
    "FROM laptop\n",
    "WHERE price > 1000"
   ]
  },
  {
   "cell_type": "markdown",
   "metadata": {},
   "source": [
    "### 13. Find out the average speed of the PCs produced by maker A."
   ]
  },
  {
   "cell_type": "code",
   "execution_count": null,
   "metadata": {
    "vscode": {
     "languageId": "sql"
    }
   },
   "outputs": [],
   "source": [
    "SELECT AVG(speed)\n",
    "FROM pc\n",
    "JOIN product\n",
    "ON product.model = pc.model\n",
    "WHERE product.maker = 'A';"
   ]
  },
  {
   "cell_type": "markdown",
   "metadata": {},
   "source": [
    "### 15. Get hard drive capacities that are identical for two or more PCs.\n",
    "Result set: hd."
   ]
  },
  {
   "cell_type": "code",
   "execution_count": null,
   "metadata": {
    "vscode": {
     "languageId": "sql"
    }
   },
   "outputs": [],
   "source": [
    "SELECT hd\n",
    "FROM pc\n",
    "GROUP BY hd\n",
    "HAVING COUNT(hd) > 1;"
   ]
  },
  {
   "cell_type": "markdown",
   "metadata": {},
   "source": [
    "### 16. Get pairs of PC models with identical speeds and the same RAM capacity. \n",
    "Each resulting pair should be displayed only once, i.e. (i, j) but not (j, i).\n",
    "Result set: model with the bigger number, model with the smaller number, speed, and RAM."
   ]
  },
  {
   "cell_type": "code",
   "execution_count": null,
   "metadata": {
    "vscode": {
     "languageId": "sql"
    }
   },
   "outputs": [],
   "source": [
    "SELECT \n",
    "    t1.model AS model_bigger,\n",
    "    t2.model AS model_smaller,\n",
    "    t1.speed,\n",
    "    t1.ram\n",
    "FROM (\n",
    "    SELECT DISTINCT model, speed, ram FROM pc\n",
    ") AS t1\n",
    "INNER JOIN (\n",
    "    SELECT DISTINCT model, speed, ram FROM pc\n",
    ") AS t2\n",
    "ON t1.speed = t2.speed AND t1.ram = t2.ram\n",
    "WHERE t1.model > t2.model\n",
    "ORDER BY t1.model, t2.model"
   ]
  },
  {
   "cell_type": "markdown",
   "metadata": {},
   "source": [
    "### 17. Get the laptop models that have a speed smaller than the speed of any PC.\n",
    "Result set: type, model, speed."
   ]
  },
  {
   "cell_type": "code",
   "execution_count": null,
   "metadata": {
    "vscode": {
     "languageId": "sql"
    }
   },
   "outputs": [],
   "source": [
    "SELECT type, laptop.model, laptop.speed\n",
    "FROM laptop\n",
    "JOIN product\n",
    "ON laptop.model = product.model\n",
    "WHERE speed < (\n",
    "    SELECT MIN(speed) FROM pc)"
   ]
  },
  {
   "cell_type": "code",
   "execution_count": null,
   "metadata": {
    "vscode": {
     "languageId": "sql"
    }
   },
   "outputs": [],
   "source": [
    "SELECT DISTINCT 'Laptop', model, speed\n",
    "FROM Laptop\n",
    "WHERE speed < (SELECT MIN(speed) FROM PC)"
   ]
  },
  {
   "cell_type": "markdown",
   "metadata": {},
   "source": [
    "### 18. Find the makers of the cheapest color printers.\n",
    "Result set: maker, price."
   ]
  },
  {
   "cell_type": "code",
   "execution_count": null,
   "metadata": {
    "vscode": {
     "languageId": "sql"
    }
   },
   "outputs": [],
   "source": [
    "SELECT DISTINCT product.maker, printer.price\n",
    "FROM printer \n",
    "JOIN product\n",
    "ON printer.model = product.model \n",
    "WHERE printer.color = 'y' -- Check color printers\n",
    "    AND printer.price = (\n",
    "        SELECT MIN(price)\n",
    "        FROM printer\n",
    "        WHERE printer.color = 'y'\n",
    ")"
   ]
  },
  {
   "cell_type": "code",
   "execution_count": null,
   "metadata": {
    "vscode": {
     "languageId": "sql"
    }
   },
   "outputs": [],
   "source": [
    "SELECT DISTINCT product.maker, filtered_printers.price\n",
    "FROM (\n",
    "    SELECT model, price\n",
    "    FROM printer\n",
    "    WHERE color = 'y'\n",
    "      AND price = (\n",
    "          SELECT MIN(price)\n",
    "          FROM printer\n",
    "          WHERE color = 'y'\n",
    "      )\n",
    ") AS filtered_printers\n",
    "JOIN product\n",
    "ON filtered_printers.model = product.model;"
   ]
  },
  {
   "cell_type": "markdown",
   "metadata": {},
   "source": [
    "## DB Ships (Ex's 14 -)"
   ]
  },
  {
   "cell_type": "markdown",
   "metadata": {},
   "source": [
    "![Ships](ships.gif)"
   ]
  },
  {
   "cell_type": "markdown",
   "metadata": {},
   "source": [
    "The database of naval ships that took part in World War II is under consideration. \n",
    "\n",
    "The database consists of the following relations:\n",
    "- `Classes`(class, type, country, numGuns, bore, displacement)\n",
    "- `Ships` (name, class, launched)\n",
    "- `Battles` (name, date)\n",
    "- `Outcomes`(ship, battle, result)\n",
    "\n",
    "Ships in classes all have the same general design. A class is normally assigned either the name of the first ship built according to the corresponding design, or a name that is different from any ship name in the database. The ship whose name is assigned to a class is called a lead ship.\n",
    "\n",
    "The `Classes` relation includes the name of the class, type (can be either bb for a battle ship, or bc for a battle cruiser), country the ship was built in, the number of main guns, gun caliber (bore diameter in inches), and displacement (weight in tons). \n",
    "\n",
    "The `Ships` relation holds information about the ship name, the name of its corresponding class, and the year the ship was launched. \n",
    "\n",
    "The `Battles` relation contains names and dates of battles the ships participated in \n",
    "\n",
    "The `Outcomes` relation - the battle result for a given ship (may be sunk, damaged, or OK, the last value meaning the ship survived the battle unharmed).\n",
    "\n",
    "Notes: \n",
    "1. The Outcomes relation may contain ships not present in the Ships relation. \n",
    "2. A ship sunk can’t participate in later battles. \n",
    "3. For historical reasons, lead ships are referred to as head ships in many exercises.\n",
    "4. A ship found in the Outcomes table but not in the Ships table is still considered in the database. This is true even if it is sunk."
   ]
  },
  {
   "cell_type": "markdown",
   "metadata": {},
   "source": [
    "### 14. For the ships in the Ships table that have at least 10 guns, get the class, name, and country. "
   ]
  },
  {
   "cell_type": "code",
   "execution_count": null,
   "metadata": {
    "vscode": {
     "languageId": "sql"
    }
   },
   "outputs": [],
   "source": [
    "SELECT sh1.class, sh1.name, cl1.country\n",
    "FROM ships AS sh1\n",
    "JOIN classes AS cl1\n",
    "ON sh1.class = cl1.class\n",
    "WHERE numGuns >= 10"
   ]
  }
 ],
 "metadata": {
  "language_info": {
   "name": "python"
  }
 },
 "nbformat": 4,
 "nbformat_minor": 2
}
