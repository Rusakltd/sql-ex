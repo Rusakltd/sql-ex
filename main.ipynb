{
 "cells": [
  {
   "cell_type": "markdown",
   "metadata": {},
   "source": [
    "### Description of Computer firm DB"
   ]
  },
  {
   "cell_type": "markdown",
   "metadata": {},
   "source": [
    "The database scheme consists of four tables:\n",
    "- `Product` (maker, model, type)\n",
    "- `PC` (code, model, speed, ram, hd, cd, price)\n",
    "- `Laptop` (code, model, speed, ram, hd, screen, price)\n",
    "- `Printer` (code, model, color, type, price)\n",
    "\n",
    "The `Product` table contains data on the maker, model number, and type of product ('PC', 'Laptop', or 'Printer'). It is assumed that model numbers in the Product table are unique for all makers and product types.\n",
    " \n",
    "Each personal computer in the `PC table` is unambiguously identified by a unique code, and is additionally characterized by its model (foreign key referring to the Product table), processor speed (in MHz) – speed field, RAM capacity (in Mb) - ram, hard disk drive capacity (in Gb) – hd, CD-ROM speed (e.g, '4x') - cd, and its price.\n",
    "\n",
    "The `Laptop` table is similar to the PC table, except that instead of the CD-ROM speed, it contains the screen size (in inches) – screen. \n",
    "\n",
    "For each printer model in the `Printer table`, its output type (‘y’ for color and ‘n’ for monochrome) – color field, printing technology ('Laser', 'Jet', or 'Matrix') – type, and price are specified."
   ]
  },
  {
   "cell_type": "markdown",
   "metadata": {},
   "source": [
    "![Сomputers](computers.gif)"
   ]
  },
  {
   "cell_type": "markdown",
   "metadata": {},
   "source": [
    "### 4. Find all records from the Printer table containing data about color printers."
   ]
  },
  {
   "cell_type": "code",
   "execution_count": null,
   "metadata": {
    "vscode": {
     "languageId": "sql"
    }
   },
   "outputs": [],
   "source": [
    "SELECT *\n",
    "FROM Printer\n",
    "WHERE color = 'y';"
   ]
  },
  {
   "cell_type": "markdown",
   "metadata": {},
   "source": [
    "### 5. Find the model number, speed and hard drive capacity of PCs cheaper than $600 having a 12x or a 24x CD drive."
   ]
  },
  {
   "cell_type": "code",
   "execution_count": null,
   "metadata": {
    "vscode": {
     "languageId": "sql"
    }
   },
   "outputs": [],
   "source": [
    "SELECT model, speed, hd\n",
    "FROM pc\n",
    "WHERE price < 600 AND (cd = '12x' OR cd = '24x');"
   ]
  },
  {
   "cell_type": "markdown",
   "metadata": {},
   "source": [
    "### 6. For each maker producing laptops with a hard drive capacity of 10 Gb or higher, find the speed of such laptops. Result set: maker, speed."
   ]
  },
  {
   "cell_type": "code",
   "execution_count": null,
   "metadata": {
    "vscode": {
     "languageId": "sql"
    }
   },
   "outputs": [],
   "source": [
    "SELECT DISTINCT p1.maker,l1.speed\n",
    "FROM product AS p1\n",
    "JOIN laptop AS l1\n",
    "ON p1.model = l1.model\n",
    "WHERE l1.hd >= 10;"
   ]
  },
  {
   "cell_type": "markdown",
   "metadata": {},
   "source": [
    "### 7. Get the models and prices for all commercially available products (of any type) produced by maker B."
   ]
  },
  {
   "cell_type": "code",
   "execution_count": null,
   "metadata": {
    "vscode": {
     "languageId": "sql"
    }
   },
   "outputs": [],
   "source": [
    "SELECT all_products.model, all_products.price\n",
    "FROM (SELECT model, price FROM pc\n",
    "      UNION\n",
    "      SELECT model, price FROM laptop\n",
    "      UNION\n",
    "      SELECT model, price FROM printer) AS all_products\n",
    "JOIN product\n",
    "ON all_products.model = product.model\n",
    "WHERE product.maker = 'B';"
   ]
  },
  {
   "cell_type": "markdown",
   "metadata": {},
   "source": [
    "### 8. Find the makers producing PCs but not laptops."
   ]
  },
  {
   "cell_type": "code",
   "execution_count": null,
   "metadata": {
    "vscode": {
     "languageId": "sql"
    }
   },
   "outputs": [],
   "source": [
    "SELECT DISTINCT maker\n",
    "FROM product\n",
    "WHERE type IN ('pc', 'laptop')\n",
    "EXCEPT\n",
    "SELECT maker\n",
    "FROM product\n",
    "WHERE type = 'laptop';"
   ]
  },
  {
   "cell_type": "markdown",
   "metadata": {},
   "source": [
    "### 9. Find the makers of PCs with a processor speed of 450 MHz or more. Result set: maker."
   ]
  },
  {
   "cell_type": "code",
   "execution_count": null,
   "metadata": {
    "vscode": {
     "languageId": "sql"
    }
   },
   "outputs": [],
   "source": [
    "SELECT DISTINCT p1.maker\n",
    "FROM product AS p1\n",
    "JOIN pc AS pc1\n",
    "ON p1.model = pc1.model\n",
    "WHERE pc1.speed >= 450;"
   ]
  }
 ],
 "metadata": {
  "language_info": {
   "name": "python"
  }
 },
 "nbformat": 4,
 "nbformat_minor": 2
}
